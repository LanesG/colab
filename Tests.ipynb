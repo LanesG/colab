{
  "nbformat": 4,
  "nbformat_minor": 0,
  "metadata": {
    "colab": {
      "name": "Tests.ipynb",
      "provenance": [],
      "toc_visible": true,
      "authorship_tag": "ABX9TyMS/6iv/oCE+6RqTlQMr95L",
      "include_colab_link": true
    },
    "kernelspec": {
      "name": "python3",
      "display_name": "Python 3"
    }
  },
  "cells": [
    {
      "cell_type": "markdown",
      "metadata": {
        "id": "view-in-github",
        "colab_type": "text"
      },
      "source": [
        "<a href=\"https://colab.research.google.com/github/LanesG/colab/blob/master/Tests.ipynb\" target=\"_parent\"><img src=\"https://colab.research.google.com/assets/colab-badge.svg\" alt=\"Open In Colab\"/></a>"
      ]
    },
    {
      "cell_type": "markdown",
      "metadata": {
        "id": "MCk0QfcGLYaP",
        "colab_type": "text"
      },
      "source": [
        "# ipywidgets"
      ]
    },
    {
      "cell_type": "code",
      "metadata": {
        "id": "wCpWGoJPLOdx",
        "colab_type": "code",
        "colab": {}
      },
      "source": [
        "import sys\n",
        "print(sys.version)\n",
        "import ipywidgets\n",
        "print(ipywidgets.__version__)"
      ],
      "execution_count": 0,
      "outputs": []
    },
    {
      "cell_type": "code",
      "metadata": {
        "id": "zrNQHEWoLej4",
        "colab_type": "code",
        "colab": {}
      },
      "source": [
        "from ipywidgets import widgets\n",
        "w = widgets.Text(\n",
        "    placeholder='Type something',\n",
        "    description='private_token:'\n",
        ")\n",
        "display(w)"
      ],
      "execution_count": 0,
      "outputs": []
    },
    {
      "cell_type": "code",
      "metadata": {
        "id": "i-uS3tEdMk-O",
        "colab_type": "code",
        "colab": {}
      },
      "source": [
        "from ipywidgets import Button\n",
        "\n",
        "Button()"
      ],
      "execution_count": 0,
      "outputs": []
    },
    {
      "cell_type": "code",
      "metadata": {
        "id": "nzPTUX_DMm-i",
        "colab_type": "code",
        "colab": {}
      },
      "source": [
        "import ipywidgets as widgets\n",
        "from ipywidgets import HBox, VBox\n",
        "import numpy as np\n",
        "import matplotlib.pyplot as plt\n",
        "from IPython.display import display\n",
        "%matplotlib inline\n",
        "\n",
        "@widgets.interact\n",
        "def f(x=5):\n",
        "    print(x)\n",
        "    \n",
        "@widgets.interact_manual(\n",
        "    color=['blue', 'red', 'green'], lw=(1., 10.))\n",
        "def plot(freq=1., color='blue', lw=2, grid=True):\n",
        "    t = np.linspace(-1., +1., 1000)\n",
        "    fig, ax = plt.subplots(1, 1, figsize=(8, 6))\n",
        "    ax.plot(t, np.sin(2 * np.pi * freq * t),\n",
        "            lw=lw, color=color)\n",
        "    ax.grid(grid)"
      ],
      "execution_count": 0,
      "outputs": []
    },
    {
      "cell_type": "markdown",
      "metadata": {
        "id": "McwBBocSNeUu",
        "colab_type": "text"
      },
      "source": [
        "# Image Browser\n",
        "This example shows how to browse through a set of images with a slider."
      ]
    },
    {
      "cell_type": "code",
      "metadata": {
        "id": "JZociGTXNhke",
        "colab_type": "code",
        "colab": {}
      },
      "source": [
        "%matplotlib inline\n",
        "import matplotlib.pyplot as plt"
      ],
      "execution_count": 0,
      "outputs": []
    },
    {
      "cell_type": "code",
      "metadata": {
        "id": "yIt_ZL2YNjqi",
        "colab_type": "code",
        "colab": {}
      },
      "source": [
        "from ipywidgets import interact"
      ],
      "execution_count": 0,
      "outputs": []
    },
    {
      "cell_type": "code",
      "metadata": {
        "id": "v_PaAmieNldU",
        "colab_type": "code",
        "colab": {}
      },
      "source": [
        "from sklearn import datasets"
      ],
      "execution_count": 0,
      "outputs": []
    },
    {
      "cell_type": "markdown",
      "metadata": {
        "id": "UHVgrWRqNnO4",
        "colab_type": "text"
      },
      "source": [
        "We will use the digits dataset from [scikit-learn](http://scikit-learn.org/stable/)."
      ]
    },
    {
      "cell_type": "code",
      "metadata": {
        "id": "kAIZiyGcNp2t",
        "colab_type": "code",
        "colab": {}
      },
      "source": [
        "digits = datasets.load_digits()"
      ],
      "execution_count": 0,
      "outputs": []
    },
    {
      "cell_type": "code",
      "metadata": {
        "id": "GY0PXNsaNsYJ",
        "colab_type": "code",
        "colab": {}
      },
      "source": [
        "def browse_images(digits):\n",
        "    n = len(digits.images)\n",
        "    def view_image(i):\n",
        "        plt.imshow(digits.images[i], cmap=plt.cm.gray_r, interpolation='nearest')\n",
        "        plt.title('Training: %s' % digits.target[i])\n",
        "        plt.show()\n",
        "    interact(view_image, i=(0,n-1))"
      ],
      "execution_count": 0,
      "outputs": []
    },
    {
      "cell_type": "code",
      "metadata": {
        "id": "rsxbB1sBNuYW",
        "colab_type": "code",
        "colab": {}
      },
      "source": [
        "browse_images(digits)"
      ],
      "execution_count": 0,
      "outputs": []
    }
  ]
}