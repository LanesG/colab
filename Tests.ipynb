{
  "nbformat": 4,
  "nbformat_minor": 0,
  "metadata": {
    "colab": {
      "name": "Tests.ipynb",
      "provenance": [],
      "toc_visible": true,
      "authorship_tag": "ABX9TyN2tG3UWOyqECh8H7+2kKrJ",
      "include_colab_link": true
    },
    "kernelspec": {
      "name": "python3",
      "display_name": "Python 3"
    }
  },
  "cells": [
    {
      "cell_type": "markdown",
      "metadata": {
        "id": "view-in-github",
        "colab_type": "text"
      },
      "source": [
        "<a href=\"https://colab.research.google.com/github/LanesG/colab/blob/master/Tests.ipynb\" target=\"_parent\"><img src=\"https://colab.research.google.com/assets/colab-badge.svg\" alt=\"Open In Colab\"/></a>"
      ]
    },
    {
      "cell_type": "markdown",
      "metadata": {
        "id": "MCk0QfcGLYaP",
        "colab_type": "text"
      },
      "source": [
        "# ipywidgets"
      ]
    },
    {
      "cell_type": "code",
      "metadata": {
        "id": "wCpWGoJPLOdx",
        "colab_type": "code",
        "colab": {}
      },
      "source": [
        "import sys\n",
        "print(sys.version)\n",
        "import ipywidgets\n",
        "print(ipywidgets.__version__)"
      ],
      "execution_count": 0,
      "outputs": []
    },
    {
      "cell_type": "code",
      "metadata": {
        "id": "zrNQHEWoLej4",
        "colab_type": "code",
        "colab": {}
      },
      "source": [
        "from ipywidgets import widgets\n",
        "w = widgets.Text(\n",
        "    placeholder='Type something',\n",
        "    description='private_token:'\n",
        ")\n",
        "display(w)"
      ],
      "execution_count": 0,
      "outputs": []
    },
    {
      "cell_type": "code",
      "metadata": {
        "id": "i-uS3tEdMk-O",
        "colab_type": "code",
        "colab": {}
      },
      "source": [
        "from ipywidgets import Button\n",
        "\n",
        "Button()"
      ],
      "execution_count": 0,
      "outputs": []
    },
    {
      "cell_type": "code",
      "metadata": {
        "id": "nzPTUX_DMm-i",
        "colab_type": "code",
        "colab": {}
      },
      "source": [
        "import ipywidgets as widgets\n",
        "from ipywidgets import HBox, VBox\n",
        "import numpy as np\n",
        "import matplotlib.pyplot as plt\n",
        "from IPython.display import display\n",
        "%matplotlib inline\n",
        "\n",
        "@widgets.interact\n",
        "def f(x=5):\n",
        "    print(x)\n",
        "    \n",
        "@widgets.interact_manual(\n",
        "    color=['blue', 'red', 'green'], lw=(1., 10.))\n",
        "def plot(freq=1., color='blue', lw=2, grid=True):\n",
        "    t = np.linspace(-1., +1., 1000)\n",
        "    fig, ax = plt.subplots(1, 1, figsize=(8, 6))\n",
        "    ax.plot(t, np.sin(2 * np.pi * freq * t),\n",
        "            lw=lw, color=color)\n",
        "    ax.grid(grid)"
      ],
      "execution_count": 0,
      "outputs": []
    },
    {
      "cell_type": "markdown",
      "metadata": {
        "id": "McwBBocSNeUu",
        "colab_type": "text"
      },
      "source": [
        "# Image Browser\n",
        "This example shows how to browse through a set of images with a slider."
      ]
    },
    {
      "cell_type": "code",
      "metadata": {
        "id": "JZociGTXNhke",
        "colab_type": "code",
        "colab": {}
      },
      "source": [
        "%matplotlib inline\n",
        "import matplotlib.pyplot as plt"
      ],
      "execution_count": 0,
      "outputs": []
    },
    {
      "cell_type": "code",
      "metadata": {
        "id": "yIt_ZL2YNjqi",
        "colab_type": "code",
        "colab": {}
      },
      "source": [
        "from ipywidgets import interact"
      ],
      "execution_count": 0,
      "outputs": []
    },
    {
      "cell_type": "code",
      "metadata": {
        "id": "v_PaAmieNldU",
        "colab_type": "code",
        "colab": {}
      },
      "source": [
        "from sklearn import datasets"
      ],
      "execution_count": 0,
      "outputs": []
    },
    {
      "cell_type": "markdown",
      "metadata": {
        "id": "UHVgrWRqNnO4",
        "colab_type": "text"
      },
      "source": [
        "We will use the digits dataset from [scikit-learn](http://scikit-learn.org/stable/)."
      ]
    },
    {
      "cell_type": "code",
      "metadata": {
        "id": "kAIZiyGcNp2t",
        "colab_type": "code",
        "colab": {}
      },
      "source": [
        "digits = datasets.load_digits()"
      ],
      "execution_count": 0,
      "outputs": []
    },
    {
      "cell_type": "code",
      "metadata": {
        "id": "GY0PXNsaNsYJ",
        "colab_type": "code",
        "colab": {}
      },
      "source": [
        "def browse_images(digits):\n",
        "    n = len(digits.images)\n",
        "    def view_image(i):\n",
        "        plt.imshow(digits.images[i], cmap=plt.cm.gray_r, interpolation='nearest')\n",
        "        plt.title('Training: %s' % digits.target[i])\n",
        "        plt.show()\n",
        "    interact(view_image, i=(0,n-1))"
      ],
      "execution_count": 0,
      "outputs": []
    },
    {
      "cell_type": "code",
      "metadata": {
        "id": "rsxbB1sBNuYW",
        "colab_type": "code",
        "colab": {}
      },
      "source": [
        "browse_images(digits)"
      ],
      "execution_count": 0,
      "outputs": []
    },
    {
      "cell_type": "markdown",
      "metadata": {
        "id": "HoVCJ9WDOBNr",
        "colab_type": "text"
      },
      "source": [
        "# plotly"
      ]
    },
    {
      "cell_type": "code",
      "metadata": {
        "id": "pNmLC6bTOD38",
        "colab_type": "code",
        "colab": {}
      },
      "source": [
        "import plotly\n",
        "plotly.__version__"
      ],
      "execution_count": 0,
      "outputs": []
    },
    {
      "cell_type": "code",
      "metadata": {
        "id": "BpvPqJRUOGPE",
        "colab_type": "code",
        "colab": {}
      },
      "source": [
        "from plotly.offline import download_plotlyjs, init_notebook_mode, plot, iplot\n",
        "import plotly.graph_objs as go\n",
        "\n",
        "init_notebook_mode(connected=True)\n",
        "\n",
        "iplot({\n",
        "    \"data\": [go.Scatter(x=[1, 2, 3, 4], y=[4, 3, 2, 1])],\n",
        "    \"layout\": go.Layout(title=\"Going Down\")\n",
        "})"
      ],
      "execution_count": 0,
      "outputs": []
    },
    {
      "cell_type": "code",
      "metadata": {
        "id": "OEnbJmUeOH20",
        "colab_type": "code",
        "colab": {}
      },
      "source": [
        "import pandas as pd\n",
        "\n",
        "data = pd.read_csv('gapminderDataFiveYear.csv')\n",
        "df_1982 = data[data['year'] == 1982]\n",
        "df_1982 = df_1982.sort_values(['continent', 'country'])\n",
        "df_1982.head()"
      ],
      "execution_count": 0,
      "outputs": []
    },
    {
      "cell_type": "code",
      "metadata": {
        "id": "JU_KGoK7OJZN",
        "colab_type": "code",
        "colab": {}
      },
      "source": [
        "fig = go.FigureWidget()\n",
        "for continent, continent_df in df_1982.groupby('continent'):\n",
        "    fig.add_scatter(x=continent_df.lifeExp,\n",
        "                   y=continent_df.gdpPercap,\n",
        "                   marker={'size': continent_df['pop'].tolist(), 'sizemode': 'area', 'sizeref':2.*max(continent_df['pop'].tolist())/(40.**2)},\n",
        "                   mode='markers',\n",
        "                   text=continent_df.country,\n",
        "                   name=continent)\n",
        "iplot(fig)"
      ],
      "execution_count": 0,
      "outputs": []
    },
    {
      "cell_type": "markdown",
      "metadata": {
        "id": "iIW_7dpQONeV",
        "colab_type": "text"
      },
      "source": [
        "Export figure to JSON. This file can be edited with Plotly's Jupyterlab Chart Editor."
      ]
    },
    {
      "cell_type": "code",
      "metadata": {
        "id": "TW7snIYgOLEH",
        "colab_type": "code",
        "colab": {}
      },
      "source": [
        "import plotly.io as pio\n",
        "\n",
        "pio.write_json(fig,'gapminder.plotly')"
      ],
      "execution_count": 0,
      "outputs": []
    },
    {
      "cell_type": "code",
      "metadata": {
        "id": "cEWsUJAoOREj",
        "colab_type": "code",
        "colab": {}
      },
      "source": [
        "import plotly.figure_factory as ff\n",
        "\n",
        "z = [[.1, .3, .5, .7, .9],\n",
        "     [1, .8, .6, .4, .2],\n",
        "     [.2, 0, .5, .7, .9],\n",
        "     [.9, .8, .4, .2, 0],\n",
        "     [.3, .4, .5, .7, 1]]\n",
        "\n",
        "fig = ff.create_annotated_heatmap(z)\n",
        "fig.show()"
      ],
      "execution_count": 0,
      "outputs": []
    }
  ]
}