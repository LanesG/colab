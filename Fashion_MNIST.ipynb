{
  "nbformat": 4,
  "nbformat_minor": 0,
  "metadata": {
    "colab": {
      "name": "Fashion MNIST.ipynb",
      "provenance": [],
      "collapsed_sections": [],
      "authorship_tag": "ABX9TyPkA4uKOnssk7reNxbxVu/z",
      "include_colab_link": true
    },
    "kernelspec": {
      "name": "python3",
      "display_name": "Python 3"
    }
  },
  "cells": [
    {
      "cell_type": "markdown",
      "metadata": {
        "id": "view-in-github",
        "colab_type": "text"
      },
      "source": [
        "<a href=\"https://colab.research.google.com/github/LanesG/colab/blob/master/Fashion_MNIST.ipynb\" target=\"_parent\"><img src=\"https://colab.research.google.com/assets/colab-badge.svg\" alt=\"Open In Colab\"/></a>"
      ]
    },
    {
      "cell_type": "markdown",
      "metadata": {
        "id": "WIb-DGc23pcL",
        "colab_type": "text"
      },
      "source": [
        "# Importieren der Libraries"
      ]
    },
    {
      "cell_type": "code",
      "metadata": {
        "id": "tmuIwYE23Z_O",
        "colab_type": "code",
        "colab": {
          "base_uri": "https://localhost:8080/",
          "height": 64
        },
        "outputId": "de0d25e1-2a20-4983-8b75-61e818ecf825"
      },
      "source": [
        "import tensorflow as tf\n",
        "from tensorflow import keras\n",
        "import numpy as np\n",
        "import matplotlib.pyplot as plt"
      ],
      "execution_count": 1,
      "outputs": [
        {
          "output_type": "display_data",
          "data": {
            "text/html": [
              "<p style=\"color: red;\">\n",
              "The default version of TensorFlow in Colab will soon switch to TensorFlow 2.x.<br>\n",
              "We recommend you <a href=\"https://www.tensorflow.org/guide/migrate\" target=\"_blank\">upgrade</a> now \n",
              "or ensure your notebook will continue to use TensorFlow 1.x via the <code>%tensorflow_version 1.x</code> magic:\n",
              "<a href=\"https://colab.research.google.com/notebooks/tensorflow_version.ipynb\" target=\"_blank\">more info</a>.</p>\n"
            ],
            "text/plain": [
              "<IPython.core.display.HTML object>"
            ]
          },
          "metadata": {
            "tags": []
          }
        }
      ]
    },
    {
      "cell_type": "code",
      "metadata": {
        "id": "JJyakxz9Hhvt",
        "colab_type": "code",
        "colab": {
          "base_uri": "https://localhost:8080/",
          "height": 35
        },
        "outputId": "d82f9368-386d-4945-ac3d-2d076e5d177b"
      },
      "source": [
        "tf.__version__"
      ],
      "execution_count": 2,
      "outputs": [
        {
          "output_type": "execute_result",
          "data": {
            "text/plain": [
              "'1.15.0'"
            ]
          },
          "metadata": {
            "tags": []
          },
          "execution_count": 2
        }
      ]
    },
    {
      "cell_type": "markdown",
      "metadata": {
        "id": "H80j5LHo4VzF",
        "colab_type": "text"
      },
      "source": [
        "# Die Daten\n",
        "## Laden der Daten"
      ]
    },
    {
      "cell_type": "code",
      "metadata": {
        "id": "y9oL-5Ti3191",
        "colab_type": "code",
        "colab": {
          "base_uri": "https://localhost:8080/",
          "height": 35
        },
        "outputId": "9d1b808e-a3f2-459e-ea6b-62dcb6f3e2b4"
      },
      "source": [
        "from keras.datasets import fashion_mnist\n",
        "(train_images, train_labels), (test_images, test_labels) = fashion_mnist.load_data()"
      ],
      "execution_count": 3,
      "outputs": [
        {
          "output_type": "stream",
          "text": [
            "Using TensorFlow backend.\n"
          ],
          "name": "stderr"
        }
      ]
    },
    {
      "cell_type": "markdown",
      "metadata": {
        "id": "H7XjHRPi6lfl",
        "colab_type": "text"
      },
      "source": [
        "## Informationen über die Datensätze anzeigen"
      ]
    },
    {
      "cell_type": "code",
      "metadata": {
        "id": "8QFcALyj6pEY",
        "colab_type": "code",
        "colab": {
          "base_uri": "https://localhost:8080/",
          "height": 160
        },
        "outputId": "7a6c58c3-efcc-4013-87fa-dbf652d906fb"
      },
      "source": [
        "print(\"Trainingsdaten\")\n",
        "print(train_images.shape)\n",
        "print(np.min(train_images))\n",
        "print(np.max(train_images))\n",
        "\n",
        "print(\"Testdaten\")\n",
        "print(test_images.shape)\n",
        "print(np.min(test_images))\n",
        "print(np.max(test_images))"
      ],
      "execution_count": 4,
      "outputs": [
        {
          "output_type": "stream",
          "text": [
            "Trainingsdaten\n",
            "(60000, 28, 28)\n",
            "0\n",
            "255\n",
            "Testdaten\n",
            "(10000, 28, 28)\n",
            "0\n",
            "255\n"
          ],
          "name": "stdout"
        }
      ]
    },
    {
      "cell_type": "markdown",
      "metadata": {
        "id": "CPiF1Z4S6VjO",
        "colab_type": "text"
      },
      "source": [
        "## Zufällige Datensätze anzeigen"
      ]
    },
    {
      "cell_type": "code",
      "metadata": {
        "id": "CWC0-u9N6PxY",
        "colab_type": "code",
        "colab": {
          "base_uri": "https://localhost:8080/",
          "height": 145
        },
        "outputId": "aceb9cad-3bb5-45fd-b918-79b22a592aca"
      },
      "source": [
        "number_of_images = 10\n",
        "random_numbers = np.random.randint(0, train_images.shape[0], number_of_images)\n",
        "fig, plots = plt.subplots(1, number_of_images, figsize=(20, 20))\n",
        "index = 0\n",
        "for number in random_numbers:\n",
        "  plots[index].imshow(train_images[number])\n",
        "  index += 1"
      ],
      "execution_count": 5,
      "outputs": [
        {
          "output_type": "display_data",
          "data": {
            "image/png": "[encoded data removed]",
            "text/plain": [
              "<Figure size 1440x1440 with 10 Axes>"
            ]
          },
          "metadata": {
            "tags": []
          }
        }
      ]
    },
    {
      "cell_type": "markdown",
      "metadata": {
        "id": "rLxOwFgYDzG3",
        "colab_type": "text"
      },
      "source": [
        "## Normalisieren der Daten"
      ]
    },
    {
      "cell_type": "code",
      "metadata": {
        "id": "Oqm7iXRIEwdg",
        "colab_type": "code",
        "colab": {}
      },
      "source": [
        "train_images = train_images / 255.0\n",
        "test_images = test_images / 255.0"
      ],
      "execution_count": 0,
      "outputs": []
    },
    {
      "cell_type": "markdown",
      "metadata": {
        "id": "shWj-a8RLlSa",
        "colab_type": "text"
      },
      "source": [
        "Das Maximum muss jeweils 1 betragen."
      ]
    },
    {
      "cell_type": "code",
      "metadata": {
        "id": "JtDWwQKzLhKh",
        "colab_type": "code",
        "colab": {
          "base_uri": "https://localhost:8080/",
          "height": 53
        },
        "outputId": "56a58bf2-cb67-4e58-f31e-51831d69cea2"
      },
      "source": [
        "print(np.max(train_images))\n",
        "print(np.max(test_images))"
      ],
      "execution_count": 7,
      "outputs": [
        {
          "output_type": "stream",
          "text": [
            "1.0\n",
            "1.0\n"
          ],
          "name": "stdout"
        }
      ]
    },
    {
      "cell_type": "markdown",
      "metadata": {
        "id": "1W6n0rqzGETk",
        "colab_type": "text"
      },
      "source": [
        "## Label in Kategorien umwandeln"
      ]
    },
    {
      "cell_type": "code",
      "metadata": {
        "id": "CGHBJOGnFDuy",
        "colab_type": "code",
        "colab": {}
      },
      "source": [
        "total_classes = 10\n",
        "train_vec_labels = keras.utils.to_categorical(train_labels, total_classes)\n",
        "test_vec_labels = keras.utils.to_categorical(test_labels, total_classes)"
      ],
      "execution_count": 0,
      "outputs": []
    },
    {
      "cell_type": "markdown",
      "metadata": {
        "id": "izOhz5SlGU0s",
        "colab_type": "text"
      },
      "source": [
        "# Das Netz\n",
        "## Entwurf eines Netzes"
      ]
    },
    {
      "cell_type": "code",
      "metadata": {
        "id": "LIbEIEXIGcmP",
        "colab_type": "code",
        "colab": {}
      },
      "source": [
        "model = keras.Sequential([\n",
        "    keras.layers.Flatten(input_shape=(28, 28)),\n",
        "    keras.layers.Dense(128, activation='relu'), \n",
        "    keras.layers.Dense(10, activation='tanh')\n",
        "])"
      ],
      "execution_count": 0,
      "outputs": []
    },
    {
      "cell_type": "markdown",
      "metadata": {
        "id": "qds4mrn0Hy77",
        "colab_type": "text"
      },
      "source": [
        "## Kompilieren des Netzes"
      ]
    },
    {
      "cell_type": "code",
      "metadata": {
        "id": "xwcPlJC3H0Gk",
        "colab_type": "code",
        "colab": {}
      },
      "source": [
        "model.compile(\n",
        "    optimizer='sgd',\n",
        "    loss='mean_squared_error',\n",
        "    metrics=['accuracy'])"
      ],
      "execution_count": 0,
      "outputs": []
    },
    {
      "cell_type": "markdown",
      "metadata": {
        "id": "aVpX2Us1H7I1",
        "colab_type": "text"
      },
      "source": [
        "## Trainieren des Netzes"
      ]
    },
    {
      "cell_type": "code",
      "metadata": {
        "id": "qGvQ96XgH9gN",
        "colab_type": "code",
        "colab": {
          "base_uri": "https://localhost:8080/",
          "height": 410
        },
        "outputId": "3f6e5cb3-2cc8-492b-bbff-d73a1bf9476a"
      },
      "source": [
        "model.fit(train_images, train_vec_labels, epochs=10, verbose=True)"
      ],
      "execution_count": 24,
      "outputs": [
        {
          "output_type": "stream",
          "text": [
            "Train on 60000 samples\n",
            "Epoch 1/10\n",
            "60000/60000 [==============================] - 4s 62us/sample - loss: 0.0686 - acc: 0.6285\n",
            "Epoch 2/10\n",
            "60000/60000 [==============================] - 4s 61us/sample - loss: 0.0507 - acc: 0.7470\n",
            "Epoch 3/10\n",
            "60000/60000 [==============================] - 4s 64us/sample - loss: 0.0459 - acc: 0.7726\n",
            "Epoch 4/10\n",
            "60000/60000 [==============================] - 4s 61us/sample - loss: 0.0430 - acc: 0.7854\n",
            "Epoch 5/10\n",
            "60000/60000 [==============================] - 4s 62us/sample - loss: 0.0409 - acc: 0.7934\n",
            "Epoch 6/10\n",
            "60000/60000 [==============================] - 4s 61us/sample - loss: 0.0394 - acc: 0.8007\n",
            "Epoch 7/10\n",
            "60000/60000 [==============================] - 4s 63us/sample - loss: 0.0381 - acc: 0.8066\n",
            "Epoch 8/10\n",
            "60000/60000 [==============================] - 4s 62us/sample - loss: 0.0370 - acc: 0.8106\n",
            "Epoch 9/10\n",
            "60000/60000 [==============================] - 4s 65us/sample - loss: 0.0361 - acc: 0.8138\n",
            "Epoch 10/10\n",
            "60000/60000 [==============================] - 4s 61us/sample - loss: 0.0353 - acc: 0.8176\n"
          ],
          "name": "stdout"
        },
        {
          "output_type": "execute_result",
          "data": {
            "text/plain": [
              "<tensorflow.python.keras.callbacks.History at 0x7f20bcdfc5f8>"
            ]
          },
          "metadata": {
            "tags": []
          },
          "execution_count": 24
        }
      ]
    },
    {
      "cell_type": "markdown",
      "metadata": {
        "id": "9cEvkdbMIKxk",
        "colab_type": "text"
      },
      "source": [
        "## Evaluieren des Netzes"
      ]
    },
    {
      "cell_type": "code",
      "metadata": {
        "id": "kVEf_foGILyc",
        "colab_type": "code",
        "colab": {
          "base_uri": "https://localhost:8080/",
          "height": 53
        },
        "outputId": "7e8fbe55-1b0a-4b9b-8821-836cab3af59d"
      },
      "source": [
        "eval_loss, eval_accuracy = model.evaluate(test_images, test_vec_labels, verbose=False)\n",
        "print(\"Model accuracy: %.2f\" % eval_accuracy)\n",
        "print(eval_loss)"
      ],
      "execution_count": 25,
      "outputs": [
        {
          "output_type": "stream",
          "text": [
            "Model accuracy: 0.81\n",
            "0.03611853447258472\n"
          ],
          "name": "stdout"
        }
      ]
    }
  ]
}