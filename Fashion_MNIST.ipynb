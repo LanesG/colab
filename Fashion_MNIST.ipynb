{
  "nbformat": 4,
  "nbformat_minor": 0,
  "metadata": {
    "colab": {
      "name": "Fashion MNIST.ipynb",
      "provenance": [],
      "collapsed_sections": [],
      "authorship_tag": "ABX9TyM7z3wAFHO1E8dfIZ+30gHe",
      "include_colab_link": true
    },
    "kernelspec": {
      "name": "python3",
      "display_name": "Python 3"
    }
  },
  "cells": [
    {
      "cell_type": "markdown",
      "metadata": {
        "id": "view-in-github",
        "colab_type": "text"
      },
      "source": [
        "<a href=\"https://colab.research.google.com/github/LanesG/colab/blob/master/Fashion_MNIST.ipynb\" target=\"_parent\"><img src=\"https://colab.research.google.com/assets/colab-badge.svg\" alt=\"Open In Colab\"/></a>"
      ]
    },
    {
      "cell_type": "markdown",
      "metadata": {
        "id": "WIb-DGc23pcL",
        "colab_type": "text"
      },
      "source": [
        "# Importieren der Libraries"
      ]
    },
    {
      "cell_type": "code",
      "metadata": {
        "id": "tmuIwYE23Z_O",
        "colab_type": "code",
        "colab": {}
      },
      "source": [
        "%tensorflow_version 2.x\n",
        "\n",
        "import tensorflow as tf\n",
        "from tensorflow import keras\n",
        "import numpy as np\n",
        "import matplotlib.pyplot as plt"
      ],
      "execution_count": 0,
      "outputs": []
    },
    {
      "cell_type": "code",
      "metadata": {
        "id": "JJyakxz9Hhvt",
        "colab_type": "code",
        "outputId": "359ab1eb-83c7-4cbe-b35e-637c9214a469",
        "colab": {
          "base_uri": "https://localhost:8080/",
          "height": 35
        }
      },
      "source": [
        "tf.__version__"
      ],
      "execution_count": 2,
      "outputs": [
        {
          "output_type": "execute_result",
          "data": {
            "text/plain": [
              "'2.2.0-rc1'"
            ]
          },
          "metadata": {
            "tags": []
          },
          "execution_count": 2
        }
      ]
    },
    {
      "cell_type": "markdown",
      "metadata": {
        "id": "H80j5LHo4VzF",
        "colab_type": "text"
      },
      "source": [
        "# Die Daten\n",
        "## Laden der Daten"
      ]
    },
    {
      "cell_type": "code",
      "metadata": {
        "id": "y9oL-5Ti3191",
        "colab_type": "code",
        "outputId": "d8b349cc-1d06-4307-c5bd-e4fe507d1093",
        "colab": {
          "base_uri": "https://localhost:8080/",
          "height": 178
        }
      },
      "source": [
        "from keras.datasets import fashion_mnist\n",
        "(train_images, train_labels), (test_images, test_labels) = fashion_mnist.load_data()"
      ],
      "execution_count": 3,
      "outputs": [
        {
          "output_type": "stream",
          "text": [
            "Using TensorFlow backend.\n"
          ],
          "name": "stderr"
        },
        {
          "output_type": "stream",
          "text": [
            "Downloading data from http://fashion-mnist.s3-website.eu-central-1.amazonaws.com/train-labels-idx1-ubyte.gz\n",
            "32768/29515 [=================================] - 0s 5us/step\n",
            "Downloading data from http://fashion-mnist.s3-website.eu-central-1.amazonaws.com/train-images-idx3-ubyte.gz\n",
            "26427392/26421880 [==============================] - 2s 0us/step\n",
            "Downloading data from http://fashion-mnist.s3-website.eu-central-1.amazonaws.com/t10k-labels-idx1-ubyte.gz\n",
            "8192/5148 [===============================================] - 0s 0us/step\n",
            "Downloading data from http://fashion-mnist.s3-website.eu-central-1.amazonaws.com/t10k-images-idx3-ubyte.gz\n",
            "4423680/4422102 [==============================] - 1s 0us/step\n"
          ],
          "name": "stdout"
        }
      ]
    },
    {
      "cell_type": "markdown",
      "metadata": {
        "id": "H7XjHRPi6lfl",
        "colab_type": "text"
      },
      "source": [
        "## Informationen über die Datensätze anzeigen"
      ]
    },
    {
      "cell_type": "code",
      "metadata": {
        "id": "8QFcALyj6pEY",
        "colab_type": "code",
        "outputId": "dd0b0012-9d02-4fa8-f215-fe795b6a7266",
        "colab": {
          "base_uri": "https://localhost:8080/",
          "height": 160
        }
      },
      "source": [
        "print(\"Trainingsdaten\")\n",
        "print(train_images.shape)\n",
        "print(np.min(train_images))\n",
        "print(np.max(train_images))\n",
        "\n",
        "print(\"Testdaten\")\n",
        "print(test_images.shape)\n",
        "print(np.min(test_images))\n",
        "print(np.max(test_images))"
      ],
      "execution_count": 4,
      "outputs": [
        {
          "output_type": "stream",
          "text": [
            "Trainingsdaten\n",
            "(60000, 28, 28)\n",
            "0\n",
            "255\n",
            "Testdaten\n",
            "(10000, 28, 28)\n",
            "0\n",
            "255\n"
          ],
          "name": "stdout"
        }
      ]
    },
    {
      "cell_type": "markdown",
      "metadata": {
        "id": "CPiF1Z4S6VjO",
        "colab_type": "text"
      },
      "source": [
        "## Zufällige Datensätze anzeigen"
      ]
    },
    {
      "cell_type": "code",
      "metadata": {
        "id": "CWC0-u9N6PxY",
        "colab_type": "code",
        "outputId": "6e34f22e-e54a-4449-cf70-b4fca3d7c846",
        "colab": {
          "base_uri": "https://localhost:8080/",
          "height": 145
        }
      },
      "source": [
        "number_of_images = 10\n",
        "random_numbers = np.random.randint(0, train_images.shape[0], number_of_images)\n",
        "fig, plots = plt.subplots(1, number_of_images, figsize=(20, 20))\n",
        "index = 0\n",
        "for number in random_numbers:\n",
        "  plots[index].imshow(train_images[number])\n",
        "  index += 1"
      ],
      "execution_count": 5,
      "outputs": [
        {
          "output_type": "display_data",
          "data": {
            "image/png": "[encoded data removed]",
            "text/plain": [
              "<Figure size 1440x1440 with 10 Axes>"
            ]
          },
          "metadata": {
            "tags": []
          }
        }
      ]
    },
    {
      "cell_type": "markdown",
      "metadata": {
        "id": "rLxOwFgYDzG3",
        "colab_type": "text"
      },
      "source": [
        "## Normalisieren der Daten"
      ]
    },
    {
      "cell_type": "code",
      "metadata": {
        "id": "Oqm7iXRIEwdg",
        "colab_type": "code",
        "colab": {}
      },
      "source": [
        "train_images = train_images / 255.0\n",
        "test_images = test_images / 255.0"
      ],
      "execution_count": 0,
      "outputs": []
    },
    {
      "cell_type": "markdown",
      "metadata": {
        "id": "shWj-a8RLlSa",
        "colab_type": "text"
      },
      "source": [
        "Das Maximum muss jeweils 1 betragen."
      ]
    },
    {
      "cell_type": "code",
      "metadata": {
        "id": "JtDWwQKzLhKh",
        "colab_type": "code",
        "outputId": "45a85567-c6a4-40ca-81c0-74ea77042e98",
        "colab": {
          "base_uri": "https://localhost:8080/",
          "height": 53
        }
      },
      "source": [
        "print(np.max(train_images))\n",
        "print(np.max(test_images))"
      ],
      "execution_count": 7,
      "outputs": [
        {
          "output_type": "stream",
          "text": [
            "1.0\n",
            "1.0\n"
          ],
          "name": "stdout"
        }
      ]
    },
    {
      "cell_type": "markdown",
      "metadata": {
        "id": "1W6n0rqzGETk",
        "colab_type": "text"
      },
      "source": [
        "## Label in Kategorien umwandeln"
      ]
    },
    {
      "cell_type": "code",
      "metadata": {
        "id": "CGHBJOGnFDuy",
        "colab_type": "code",
        "colab": {}
      },
      "source": [
        "total_classes = 10\n",
        "train_vec_labels = keras.utils.to_categorical(train_labels, total_classes)\n",
        "test_vec_labels = keras.utils.to_categorical(test_labels, total_classes)"
      ],
      "execution_count": 0,
      "outputs": []
    },
    {
      "cell_type": "markdown",
      "metadata": {
        "id": "izOhz5SlGU0s",
        "colab_type": "text"
      },
      "source": [
        "# Das Netz\n",
        "## Entwurf eines Netzes"
      ]
    },
    {
      "cell_type": "code",
      "metadata": {
        "id": "LIbEIEXIGcmP",
        "colab_type": "code",
        "colab": {}
      },
      "source": [
        "model = keras.Sequential([\n",
        "    keras.layers.Flatten(input_shape=(28, 28)),\n",
        "    keras.layers.Dense(128, activation='relu'), \n",
        "    keras.layers.Dense(10, activation='tanh')\n",
        "])"
      ],
      "execution_count": 0,
      "outputs": []
    },
    {
      "cell_type": "markdown",
      "metadata": {
        "id": "qds4mrn0Hy77",
        "colab_type": "text"
      },
      "source": [
        "## Kompilieren des Netzes"
      ]
    },
    {
      "cell_type": "code",
      "metadata": {
        "id": "xwcPlJC3H0Gk",
        "colab_type": "code",
        "colab": {}
      },
      "source": [
        "model.compile(\n",
        "    optimizer='sgd',\n",
        "    loss='mean_squared_error',\n",
        "    metrics=['accuracy'])"
      ],
      "execution_count": 0,
      "outputs": []
    },
    {
      "cell_type": "markdown",
      "metadata": {
        "id": "aVpX2Us1H7I1",
        "colab_type": "text"
      },
      "source": [
        "## Trainieren des Netzes"
      ]
    },
    {
      "cell_type": "code",
      "metadata": {
        "id": "qGvQ96XgH9gN",
        "colab_type": "code",
        "outputId": "60eb091d-eaf4-44f7-a26d-5fdd6a5e405f",
        "colab": {
          "base_uri": "https://localhost:8080/",
          "height": 392
        }
      },
      "source": [
        "model.fit(train_images, train_vec_labels, epochs=10, verbose=True)"
      ],
      "execution_count": 11,
      "outputs": [
        {
          "output_type": "stream",
          "text": [
            "Epoch 1/10\n",
            "1875/1875 [==============================] - 4s 2ms/step - loss: 0.0684 - accuracy: 0.6431\n",
            "Epoch 2/10\n",
            "1875/1875 [==============================] - 4s 2ms/step - loss: 0.0496 - accuracy: 0.7495\n",
            "Epoch 3/10\n",
            "1875/1875 [==============================] - 4s 2ms/step - loss: 0.0450 - accuracy: 0.7748\n",
            "Epoch 4/10\n",
            "1875/1875 [==============================] - 4s 2ms/step - loss: 0.0423 - accuracy: 0.7898\n",
            "Epoch 5/10\n",
            "1875/1875 [==============================] - 4s 2ms/step - loss: 0.0404 - accuracy: 0.7975\n",
            "Epoch 6/10\n",
            "1875/1875 [==============================] - 4s 2ms/step - loss: 0.0389 - accuracy: 0.8050\n",
            "Epoch 7/10\n",
            "1875/1875 [==============================] - 4s 2ms/step - loss: 0.0377 - accuracy: 0.8093\n",
            "Epoch 8/10\n",
            "1875/1875 [==============================] - 3s 2ms/step - loss: 0.0367 - accuracy: 0.8133\n",
            "Epoch 9/10\n",
            "1875/1875 [==============================] - 4s 2ms/step - loss: 0.0359 - accuracy: 0.8167\n",
            "Epoch 10/10\n",
            "1875/1875 [==============================] - 4s 2ms/step - loss: 0.0351 - accuracy: 0.8190\n"
          ],
          "name": "stdout"
        },
        {
          "output_type": "execute_result",
          "data": {
            "text/plain": [
              "<tensorflow.python.keras.callbacks.History at 0x7f82fc8c6a58>"
            ]
          },
          "metadata": {
            "tags": []
          },
          "execution_count": 11
        }
      ]
    },
    {
      "cell_type": "markdown",
      "metadata": {
        "id": "9cEvkdbMIKxk",
        "colab_type": "text"
      },
      "source": [
        "## Evaluieren des Netzes"
      ]
    },
    {
      "cell_type": "code",
      "metadata": {
        "id": "kVEf_foGILyc",
        "colab_type": "code",
        "outputId": "2d25e787-d3ce-4017-8066-1779e7d07c0f",
        "colab": {
          "base_uri": "https://localhost:8080/",
          "height": 53
        }
      },
      "source": [
        "eval_loss, eval_accuracy = model.evaluate(test_images, test_vec_labels, verbose=False)\n",
        "print(\"Model accuracy: %.2f\" % eval_accuracy)\n",
        "print(eval_loss)"
      ],
      "execution_count": 12,
      "outputs": [
        {
          "output_type": "stream",
          "text": [
            "Model accuracy: 0.81\n",
            "0.03587835282087326\n"
          ],
          "name": "stdout"
        }
      ]
    }
  ]
}