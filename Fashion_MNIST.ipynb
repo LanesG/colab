{
  "nbformat": 4,
  "nbformat_minor": 0,
  "metadata": {
    "colab": {
      "name": "Fashion MNIST.ipynb",
      "provenance": [],
      "collapsed_sections": [],
      "authorship_tag": "ABX9TyNNDV1b2qnLR9Q5Beax+Sim",
      "include_colab_link": true
    },
    "kernelspec": {
      "name": "python3",
      "display_name": "Python 3"
    }
  },
  "cells": [
    {
      "cell_type": "markdown",
      "metadata": {
        "id": "view-in-github",
        "colab_type": "text"
      },
      "source": [
        "<a href=\"https://colab.research.google.com/github/LanesG/colab/blob/master/Fashion_MNIST.ipynb\" target=\"_parent\"><img src=\"https://colab.research.google.com/assets/colab-badge.svg\" alt=\"Open In Colab\"/></a>"
      ]
    },
    {
      "cell_type": "markdown",
      "metadata": {
        "id": "WIb-DGc23pcL",
        "colab_type": "text"
      },
      "source": [
        "# Importieren der Libraries"
      ]
    },
    {
      "cell_type": "code",
      "metadata": {
        "id": "tmuIwYE23Z_O",
        "colab_type": "code",
        "colab": {}
      },
      "source": [
        "import tensorflow as tf\n",
        "from tensorflow import keras\n",
        "import numpy as np\n",
        "import matplotlib.pyplot as plt"
      ],
      "execution_count": 0,
      "outputs": []
    },
    {
      "cell_type": "code",
      "metadata": {
        "id": "JJyakxz9Hhvt",
        "colab_type": "code",
        "colab": {
          "base_uri": "https://localhost:8080/",
          "height": 35
        },
        "outputId": "3b904328-c19d-4b38-fc87-cc6e8bdfa58b"
      },
      "source": [
        "tf.__version__"
      ],
      "execution_count": 74,
      "outputs": [
        {
          "output_type": "execute_result",
          "data": {
            "text/plain": [
              "'1.15.0'"
            ]
          },
          "metadata": {
            "tags": []
          },
          "execution_count": 74
        }
      ]
    },
    {
      "cell_type": "markdown",
      "metadata": {
        "id": "H80j5LHo4VzF",
        "colab_type": "text"
      },
      "source": [
        "# Die Daten\n",
        "## Laden der Daten"
      ]
    },
    {
      "cell_type": "code",
      "metadata": {
        "id": "y9oL-5Ti3191",
        "colab_type": "code",
        "colab": {}
      },
      "source": [
        "from keras.datasets import fashion_mnist\n",
        "(train_images, train_labels), (test_images, test_labels) = fashion_mnist.load_data()"
      ],
      "execution_count": 0,
      "outputs": []
    },
    {
      "cell_type": "markdown",
      "metadata": {
        "id": "H7XjHRPi6lfl",
        "colab_type": "text"
      },
      "source": [
        "## Informationen über die Datensätze anzeigen"
      ]
    },
    {
      "cell_type": "code",
      "metadata": {
        "id": "8QFcALyj6pEY",
        "colab_type": "code",
        "colab": {
          "base_uri": "https://localhost:8080/",
          "height": 160
        },
        "outputId": "79abc19e-f319-494a-ce83-17d055756ecc"
      },
      "source": [
        "print(\"Trainingsdaten\")\n",
        "print(train_images.shape)\n",
        "print(np.min(train_images))\n",
        "print(np.max(train_images))\n",
        "\n",
        "print(\"Testdaten\")\n",
        "print(test_images.shape)\n",
        "print(np.min(test_images))\n",
        "print(np.max(test_images))"
      ],
      "execution_count": 18,
      "outputs": [
        {
          "output_type": "stream",
          "text": [
            "Trainingsdaten\n",
            "(60000, 28, 28)\n",
            "0\n",
            "255\n",
            "Testdaten\n",
            "(10000, 28, 28)\n",
            "0\n",
            "255\n"
          ],
          "name": "stdout"
        }
      ]
    },
    {
      "cell_type": "markdown",
      "metadata": {
        "id": "CPiF1Z4S6VjO",
        "colab_type": "text"
      },
      "source": [
        "## Zufällige Datensätze anzeigen"
      ]
    },
    {
      "cell_type": "code",
      "metadata": {
        "id": "CWC0-u9N6PxY",
        "colab_type": "code",
        "colab": {
          "base_uri": "https://localhost:8080/",
          "height": 145
        },
        "outputId": "4d9f79cd-e52e-4940-d6c6-9928f1ea9617"
      },
      "source": [
        "number_of_images = 10\n",
        "random_numbers = np.random.randint(0, train_images.shape[0], number_of_images)\n",
        "fig, plots = plt.subplots(1, number_of_images, figsize=(20, 20))\n",
        "index = 0\n",
        "for number in random_numbers:\n",
        "  plots[index].imshow(train_images[number])\n",
        "  index += 1"
      ],
      "execution_count": 66,
      "outputs": [
        {
          "output_type": "display_data",
          "data": {
            "image/png": "[encoded data removed]",
            "text/plain": [
              "<Figure size 1440x1440 with 10 Axes>"
            ]
          },
          "metadata": {
            "tags": []
          }
        }
      ]
    },
    {
      "cell_type": "markdown",
      "metadata": {
        "id": "rLxOwFgYDzG3",
        "colab_type": "text"
      },
      "source": [
        "## Normalisieren der Daten"
      ]
    },
    {
      "cell_type": "code",
      "metadata": {
        "id": "Oqm7iXRIEwdg",
        "colab_type": "code",
        "colab": {}
      },
      "source": [
        "train_images = train_images / 255.0\n",
        "test_images = test_images / 255.0"
      ],
      "execution_count": 0,
      "outputs": []
    },
    {
      "cell_type": "markdown",
      "metadata": {
        "id": "1W6n0rqzGETk",
        "colab_type": "text"
      },
      "source": [
        "## Label in Kategorien umwandeln"
      ]
    },
    {
      "cell_type": "code",
      "metadata": {
        "id": "CGHBJOGnFDuy",
        "colab_type": "code",
        "colab": {}
      },
      "source": [
        "total_classes = 10\n",
        "train_vec_labels = keras.utils.to_categorical(train_labels, total_classes)\n",
        "test_vec_labels = keras.utils.to_categorical(test_labels, total_classes)"
      ],
      "execution_count": 0,
      "outputs": []
    },
    {
      "cell_type": "markdown",
      "metadata": {
        "id": "izOhz5SlGU0s",
        "colab_type": "text"
      },
      "source": [
        "# Das Netz\n",
        "## Entwurf eines Netzes"
      ]
    },
    {
      "cell_type": "code",
      "metadata": {
        "id": "LIbEIEXIGcmP",
        "colab_type": "code",
        "colab": {
          "base_uri": "https://localhost:8080/",
          "height": 91
        },
        "outputId": "c7e5616f-e6ac-4d3c-f9d0-8faae63237fe"
      },
      "source": [
        "model = keras.Sequential([\n",
        "    keras.layers.Flatten(input_shape=(28, 28)),\n",
        "    keras.layers.Dense(128, activation='sigmoid'), \n",
        "    keras.layers.Dense(10, activation='sigmoid')\n",
        "])"
      ],
      "execution_count": 71,
      "outputs": [
        {
          "output_type": "stream",
          "text": [
            "WARNING:tensorflow:From /tensorflow-1.15.0/python3.6/tensorflow_core/python/ops/resource_variable_ops.py:1630: calling BaseResourceVariable.__init__ (from tensorflow.python.ops.resource_variable_ops) with constraint is deprecated and will be removed in a future version.\n",
            "Instructions for updating:\n",
            "If using Keras pass *_constraint arguments to layers.\n"
          ],
          "name": "stdout"
        }
      ]
    },
    {
      "cell_type": "markdown",
      "metadata": {
        "id": "qds4mrn0Hy77",
        "colab_type": "text"
      },
      "source": [
        "## Kompilieren des Netzes"
      ]
    },
    {
      "cell_type": "code",
      "metadata": {
        "id": "xwcPlJC3H0Gk",
        "colab_type": "code",
        "colab": {}
      },
      "source": [
        "model.compile(\n",
        "    optimizer='sgd',\n",
        "    loss='mean_squared_error',\n",
        "    metrics=['accuracy'])"
      ],
      "execution_count": 0,
      "outputs": []
    },
    {
      "cell_type": "markdown",
      "metadata": {
        "id": "aVpX2Us1H7I1",
        "colab_type": "text"
      },
      "source": [
        "## Trainieren des Netzes"
      ]
    },
    {
      "cell_type": "code",
      "metadata": {
        "id": "qGvQ96XgH9gN",
        "colab_type": "code",
        "colab": {
          "base_uri": "https://localhost:8080/",
          "height": 410
        },
        "outputId": "8d241ea3-dac2-41e0-c4c7-1ebf85b75f15"
      },
      "source": [
        "model.fit(train_images, train_vec_labels, epochs=10, verbose=True)"
      ],
      "execution_count": 76,
      "outputs": [
        {
          "output_type": "stream",
          "text": [
            "Train on 60000 samples\n",
            "Epoch 1/10\n",
            "60000/60000 [==============================] - 4s 67us/sample - loss: 0.1040 - acc: 0.2502\n",
            "Epoch 2/10\n",
            "60000/60000 [==============================] - 4s 61us/sample - loss: 0.0865 - acc: 0.3791\n",
            "Epoch 3/10\n",
            "60000/60000 [==============================] - 4s 60us/sample - loss: 0.0837 - acc: 0.3990\n",
            "Epoch 4/10\n",
            "60000/60000 [==============================] - 4s 60us/sample - loss: 0.0807 - acc: 0.4156\n",
            "Epoch 5/10\n",
            "60000/60000 [==============================] - 4s 62us/sample - loss: 0.0777 - acc: 0.4620\n",
            "Epoch 6/10\n",
            "60000/60000 [==============================] - 4s 61us/sample - loss: 0.0748 - acc: 0.5095\n",
            "Epoch 7/10\n",
            "60000/60000 [==============================] - 4s 60us/sample - loss: 0.0722 - acc: 0.5409\n",
            "Epoch 8/10\n",
            "60000/60000 [==============================] - 4s 61us/sample - loss: 0.0699 - acc: 0.5702\n",
            "Epoch 9/10\n",
            "60000/60000 [==============================] - 4s 62us/sample - loss: 0.0678 - acc: 0.5968\n",
            "Epoch 10/10\n",
            "60000/60000 [==============================] - 4s 60us/sample - loss: 0.0659 - acc: 0.6225\n"
          ],
          "name": "stdout"
        },
        {
          "output_type": "execute_result",
          "data": {
            "text/plain": [
              "<tensorflow.python.keras.callbacks.History at 0x7f7f9ef1a9e8>"
            ]
          },
          "metadata": {
            "tags": []
          },
          "execution_count": 76
        }
      ]
    },
    {
      "cell_type": "markdown",
      "metadata": {
        "id": "9cEvkdbMIKxk",
        "colab_type": "text"
      },
      "source": [
        "## Evaluieren des Netzes"
      ]
    },
    {
      "cell_type": "code",
      "metadata": {
        "id": "kVEf_foGILyc",
        "colab_type": "code",
        "colab": {
          "base_uri": "https://localhost:8080/",
          "height": 53
        },
        "outputId": "132baf78-a24c-4ff9-9bc6-77e26a7a03d3"
      },
      "source": [
        "eval_loss, eval_accuracy = model.evaluate(test_images, test_vec_labels, verbose=False)\n",
        "print(\"Model accuracy: %.2f\" % eval_accuracy)\n",
        "print(eval_loss)"
      ],
      "execution_count": 77,
      "outputs": [
        {
          "output_type": "stream",
          "text": [
            "Model accuracy: 0.63\n",
            "0.06518439000248909\n"
          ],
          "name": "stdout"
        }
      ]
    }
  ]
}